{
 "cells": [
  {
   "cell_type": "markdown",
   "metadata": {},
   "source": [
    "# Overview\n",
    "For my final project, I want to examine if nominal GDP is a strong predictor of a country’s happiness score in the World Happiness Report. Conducting this analysis will help me understand how heavily the state of a country’s economy resonates with happiness with individuals in their respective countries. From a human-centered perspective, this research question can provide valuable insights into what drives the quality of life in countries and what trends emerge in their values and priorities. Additionally, I believe this analysis will provide me with interesting insights from a scientific perspective to understanding a quantitative relationship between an economic measure (GDP) and a subjective, social indicator such as happiness scores. Ultimately, I hope to gain a deeper understanding of the impact economic growth has on countries around the world with self-reported happiness scores."
   ]
  },
  {
   "cell_type": "markdown",
   "metadata": {},
   "source": [
    "# Background and Related Works\n",
    "One notable study on world happiness score is an article written by [Helliwell, Huang, Shiplett, and Wang](https://worldhappiness.report/ed/2024/happiness-of-the-younger-the-older-and-those-in-between/), which examines how world happiness scores differ among age generations – specifically, Baby Boomers, Generation X, Generation Y (Millennials), and Generation Z. The methodology for this study focused on subjective well-being measures, including life evaluations, positive emotions, and negative emotions. These well-being measures were used to calculate regressions to find the average happiness across countries. The findings from this study report that happiness scores tend to vary amongst age groups in different regions of the world. For example, older generations in the United States and Canada had a higher happiness score, while the younger generations in Central and Eastern Europe showed higher happiness scores. Another interesting finding from this study is that the pattern of positive emotions was relatively stable over time, with the trend of positive emotions still being more frequent for the younger generations compared to older ones. \n",
    "\n",
    "Another interesting study I looked at was written by [DataRes](https://ucladatares.medium.com/effects-of-covid-19-on-the-world-happiness-report-f5dcca9c1012) at UCLA and published on Medium, which examines the effects and impact COVID-19 had on world happiness scores. The methodology from this study conducted an exploratory data analysis, where factors such as median age vs. health life expectancy score and GDP per capita vs. people’s freedom to make life choices were examined for a correlation. Similar to the first article I read, this study utilized regression modeling to identify potential relationships between these factors and how they impacted happiness scores during the pandemic. Ultimately, the findings of this study show that COVID-19 did have an impact on each country’s happiness score, but would vary depending on the region and external factors such as efforts made by the government.\n",
    "\n",
    "To summarize, the related works above examined happiness scores by age group and the impacts of COVID-19 on happiness scores. From these studies, I noticed that most of their methodologies focused on regression modeling to find and understand correlations. However, there is a gap in investigating world happiness scores, specifically, research focused on understanding predictors that can potentially differentiate countries with high happiness scores from the lowest happiness scores. My final project aims to conduct a regression analysis to identify if nominal GDP is a strong predictor of a country’s happiness score in the World Happiness Report. \n"
   ]
  },
  {
   "cell_type": "markdown",
   "metadata": {},
   "source": [
    "# Data Selected for Analysis\n",
    "For my analysis, I plan to leverage the World Happiness Report dataset from [Kaggle](https://www.kaggle.com/datasets/unsdsn/world-happiness/data). This dataset encompasses data from 2015 to 2019, with happiness scores in each of the following categories: Gross Domestic Product (GDP) per capita, social support, healthy life expectancy, freedom to make life choices, generosity, and perceptions of corruption (government). In terms of licenses and terms of use, this data is available under the CC0: Public Domain. This dataset is suitable for addressing my research goal as it oversees factors that span between economic, political, and health sectors. Having a variety of factors to analyze can allow me to observe potential differentiators and relationships between factors as they evolve over the years. When using this dataset, an ethical consideration to be mindful of is that these happiness scores could potentially be generalized and subjective, meaning that the data could be skewed due to biases. \n",
    "\n",
    "My second dataset is from [OECD Data Explorer](https://data-explorer.oecd.org/vis?lc=en&tm=DF_TABLE1_EXPENDITURE_HCPC&pg=0&snb=1&df[ds]=dsDisseminateFinalDMZ&df[id]=DSD_NAMAIN10@DF_TABLE1_EXPENDITURE_HCPC&df[ag]=OECD.SDD.NAD&df[vs]=&pd=,&dq=A.AUS+AUT+BEL+CAN+CHL+COL+CRI+CZE+DNK+EST+FIN+FRA+DEU+GRC+HUN+ISL+IRL+ISR+ITA+JPN+KOR+LVA+LTU+LUX+MEX+NLD+NZL+NOR+POL+PRT+SVK+SVN+ESP+SWE+CHE+TUR+GBR+USA...B1GQ_POP.......&to[TIME_PERIOD]=false&vw=tb) and provides data on nominal GDP values, which spans from 1960 to 2023. This dataset will be valuable because it provides long-term data spanning over 50 years, which can help me observe any trends, fluctuations, and shifts in GDP over time. This will be a strong point of analysis in combination with my first dataset, as I can observe changes in GDP in relation to the world happiness score. A license for this dataset was not specified, however, the [terms and conditions](https://www.oecd.org/en/about/terms-conditions.html) can be found on the OECD Data Explorer website. An ethical consideration to be aware of when using this data is that relying on GDP alone may not be an accurate representation of a country’s economic state, therefore, it might be helpful to conduct the analysis with other economic factors in mind, such as unemployment rates, inflation, or more. \n"
   ]
  },
  {
   "cell_type": "markdown",
   "metadata": {},
   "source": [
    "# Research Question\n",
    "Is nominal GDP a strong predictor of a country’s happiness score in the World Happiness Report?"
   ]
  },
  {
   "cell_type": "markdown",
   "metadata": {},
   "source": [
    "# Hypothesis\n",
    "In 2019, a high GDP per capita would result in countries with higher happiness scores."
   ]
  },
  {
   "cell_type": "markdown",
   "metadata": {},
   "source": [
    "# Methodology\n",
    "For this analysis, I plan to scope my project to focus on the year, 2019, as it is the most recent year in the datasets, and to ensure the analysis can be done in a feasible and timely manner.\n",
    "\n",
    "Using two datasets sourced from [Kaggle](https://www.kaggle.com/datasets/unsdsn/world-happiness/data) and [OECD Data Explorer](https://data-explorer.oecd.org/vis?lc=en&tm=DF_TABLE1_EXPENDITURE_HCPC&pg=0&snb=1&df[ds]=dsDisseminateFinalDMZ&df[id]=DSD_NAMAIN10@DF_TABLE1_EXPENDITURE_HCPC&df[ag]=OECD.SDD.NAD&df[vs]=&pd=,&dq=A.AUS+AUT+BEL+CAN+CHL+COL+CRI+CZE+DNK+EST+FIN+FRA+DEU+GRC+HUN+ISL+IRL+ISR+ITA+JPN+KOR+LVA+LTU+LUX+MEX+NLD+NZL+NOR+POL+PRT+SVK+SVN+ESP+SWE+CHE+TUR+GBR+USA...B1GQ_POP.......&to[TIME_PERIOD]=false&vw=tb), I will perform a regression analysis to determine if nominal GDP is a strong predictor of a country's happiness score. A regression analysis was chosen because it’s an effective statistical method for examining the relationship between a dependent variable, in this case, happiness score, and comparing it to an independent variable, nominal GDP.  In addition to the regression analysis, I plan to compute the R-squared value, as this will provide valuable insights on the variance in happiness scores and GDP.\n",
    "\n",
    "To conduct this analysis, we will begin by filtering the OECD dataset for nominal GDP and the Kaggle dataset for happiness scores to include data from 2019 only. From here, we can begin running a regression analysis to observe the correlation. By focusing on a specific year and relying on a regression analysis, this methodology can effectively investigate the correlation between a country’s GDP per capita and happiness scores."
   ]
  },
  {
   "cell_type": "markdown",
   "metadata": {},
   "source": [
    "# Unknowns and Dependencies\n",
    "To ensure this project is completed by the end of the quarter, I’m depending on the datasets to be clean, comprehensive, and high-quality. Since the OECD Data Explorer dataset, in particular, spans from 1960 to 2023, having to sort through a messy dataset with multiple years of data might bar me from completing the final project. If this dependency doesn’t meet my expectations, pivoting the direction of the project may be a possibility."
   ]
  },
  {
   "cell_type": "markdown",
   "metadata": {},
   "source": [
    "# Findings\n",
    "Based on the initial regression analysis between GDP per capita and happiness scores for countries in 2019, an R-Squared value of 0.48 was computed, which indicates a moderate correlation. However, when observing the scatter plot, there are notable outliers in the data, Singapore and Luxembourg, which significantly skews the R-Squared value from the regression line. I was interested in what would happen if we removed these countries from the analysis and recomputed the R-Squared which resulted in a value of 0.71, indicating a much stronger correlation between GDP and happiness scores. Examining the new scatter plot with the excluded outliers, the data points are in much closer proximity to the line of regression, compared to the initial scatter plot.\n",
    "\n",
    "To continue testing my hypothesis, I wanted to experiment with a further analysis and dive into understanding a country’s happiness score by excluding GDP. When excluding the GDP from each country’s happiness score and performing the same analysis in the first experiment, the R-Squared value was computed at 0.35, which suggests a weak correlation. Similar to the first experiment, I excluded the outliers, Singapore and Luxembourg in the next trial to see if there is a substantial effect on the data. After recomputing, an R-Squared value of 0.60 was found.\n",
    "\n",
    "The last experiment I was interested in exploring was the proportion of GDP in relation to the total happiness score for all countries. From this bar chart, it appeared that at most, around 30 countries weighted GDP as 15-20% of their total happiness score. We can conclude that GDP does not play a dominant role in determining a country’s happiness score."
   ]
  },
  {
   "cell_type": "markdown",
   "metadata": {},
   "source": [
    "# Discussion\n",
    "\n",
    "## Limitations\n",
    "When starting out my project, a limitation I came across early on was that I casted way too wide of a net with my initial research question of “What factors (GDP, social support, health, freedom, generosity, perceptions of corruption) most differentiate countries with high happiness scores from those with low scores?”. Based on the chosen datasets from Kaggle focusing on the World Happiness Score report and OECD Data Explorer encompassing nominal values of GDP, I decided the best decision was to pivot and revise my research question to focus more on the economic development of countries in correlation to their happiness scores. I reframed my research question as: “Is nominal GDP a strong predictor of a country’s happiness score in the World Happiness Report?”, which helped scope my project to be more specific and focused.\n",
    "\n",
    "The next limitation of this study is the reliance on data from a single year (2019). While analyzing data over a span of years would’ve provided a more accurate and valuable understanding of the relationship between GDP and world happiness scores over time, it wouldn’t have been feasible to complete the final project in the remaining weeks of the quarter. \n",
    "\n",
    "Another limitation of this study is that we assume a linear relationship between the defined independent variable, GDP, and the dependent variable of happiness scores. In reality, this relationship is very nuanced and cannot be captured in a simple linear regression model. \n",
    "\n",
    "The final limitation that comes to mind is that happiness scores can be subjective as these scores are computed by collecting survey data from people living in that country. It’s difficult to ensure that the factors included in the data fully capture what the population in these countries view as happiness, and these nuances can skew the results of this study.\n",
    "\n",
    "## Implications\n",
    "An interesting implication to explore is the presence of outliers in the data. In this dataset, Singapore and Luxembourg had a significant impact on the regression analysis. Despite being wealthy countries, other factors might be impacting their happiness scores. That said, it’s important to note the importance of non-economic factors in happiness scores. While GDP can serve as a predictor, it shouldn’t be relied on to explain the variation of scores or capture the broader picture of what is viewed as happiness in countries. Instead, shifting to an approach that takes into account a variety of social, cultural, and environmental factors can better examine happiness scores in a more fair and holistic approach."
   ]
  },
  {
   "cell_type": "markdown",
   "metadata": {},
   "source": [
    "# Conclusion\n",
    "This project aimed to identify if nominal GDP is a strong predictor of a country’s happiness score in the World Happiness Report. Initially,  I hypothesized that countries with a higher GDP (gross domestic product) per capita would have significantly higher happiness scores. To test this hypothesis, I performed a regression analysis to examine the correlation between nominal GDP and happiness scores.\n",
    "\n",
    "From the experiments and analysis, the results indicated that the relationship between nominal GDP and happiness score fluctuated with a low to moderate correlation from the R-Squared value. This suggests that while GDP per capita does play a role in predicting happiness, it’s not the primary factor driving the differences in happiness scores across countries. While my hypothesis was incorrect, the next steps can be taken to explore other variables that may have a stronger influence and correlation to happiness levels, such as government, environment, and social support."
   ]
  },
  {
   "cell_type": "markdown",
   "metadata": {},
   "source": [
    "# References\n",
    "[ChatGPT](https://chatgpt.com/) was used to help write the code for regression analysis and scatter plot graphs. "
   ]
  },
  {
   "cell_type": "markdown",
   "metadata": {},
   "source": [
    "The first step we will do is importing the pandas library. This library will help with analyzing, cleaning, exploring, and manipulating the datasets."
   ]
  },
  {
   "cell_type": "code",
   "execution_count": 1,
   "metadata": {},
   "outputs": [],
   "source": [
    "import pandas as pd"
   ]
  },
  {
   "cell_type": "markdown",
   "metadata": {},
   "source": [
    "Next, we have to load our CSV file from OECD Data Explorer into a DataFrame. The aim of a DataFrame is to transform CSV files into data we can work with, rather than pure text. In this dataset from OECD Data Explorer, we are given nominal values of GDP. We will print the first few rows of the DataFrame as a \"sanity check\" to ensure the first few rows of data has what we are looking to analyze."
   ]
  },
  {
   "cell_type": "code",
   "execution_count": 2,
   "metadata": {},
   "outputs": [
    {
     "name": "stdout",
     "output_type": "stream",
     "text": [
      "  STRUCTURE                                       STRUCTURE_ID  \\\n",
      "0  DATAFLOW  OECD.SDD.NAD:DSD_NAMAIN10@DF_TABLE1_EXPENDITUR...   \n",
      "1  DATAFLOW  OECD.SDD.NAD:DSD_NAMAIN10@DF_TABLE1_EXPENDITUR...   \n",
      "2  DATAFLOW  OECD.SDD.NAD:DSD_NAMAIN10@DF_TABLE1_EXPENDITUR...   \n",
      "3  DATAFLOW  OECD.SDD.NAD:DSD_NAMAIN10@DF_TABLE1_EXPENDITUR...   \n",
      "4  DATAFLOW  OECD.SDD.NAD:DSD_NAMAIN10@DF_TABLE1_EXPENDITUR...   \n",
      "\n",
      "                                      STRUCTURE_NAME ACTION FREQ  \\\n",
      "0  Annual GDP and consumption per capita, US $, c...      I    A   \n",
      "1  Annual GDP and consumption per capita, US $, c...      I    A   \n",
      "2  Annual GDP and consumption per capita, US $, c...      I    A   \n",
      "3  Annual GDP and consumption per capita, US $, c...      I    A   \n",
      "4  Annual GDP and consumption per capita, US $, c...      I    A   \n",
      "\n",
      "  Frequency of observation REF_AREA Reference area SECTOR  \\\n",
      "0                   Annual      TUR        Türkiye     S1   \n",
      "1                   Annual      TUR        Türkiye     S1   \n",
      "2                   Annual      TUR        Türkiye     S1   \n",
      "3                   Annual      TUR        Türkiye     S1   \n",
      "4                   Annual      TUR        Türkiye     S1   \n",
      "\n",
      "  Institutional sector  ... CONF_STATUS       Confidentiality status DECIMALS  \\\n",
      "0        Total economy  ...           F  Free (free for publication)        1   \n",
      "1        Total economy  ...           F  Free (free for publication)        1   \n",
      "2        Total economy  ...           F  Free (free for publication)        1   \n",
      "3        Total economy  ...           F  Free (free for publication)        1   \n",
      "4        Total economy  ...           F  Free (free for publication)        1   \n",
      "\n",
      "  Decimals OBS_STATUS Observation status UNIT_MULT Unit multiplier CURRENCY  \\\n",
      "0      One          A       Normal value         0           Units       _Z   \n",
      "1      One          E    Estimated value         0           Units       _Z   \n",
      "2      One          E    Estimated value         0           Units       _Z   \n",
      "3      One          E    Estimated value         0           Units       _Z   \n",
      "4      One          E    Estimated value         0           Units       _Z   \n",
      "\n",
      "         Currency  \n",
      "0  Not applicable  \n",
      "1  Not applicable  \n",
      "2  Not applicable  \n",
      "3  Not applicable  \n",
      "4  Not applicable  \n",
      "\n",
      "[5 rows x 44 columns]\n"
     ]
    }
   ],
   "source": [
    "# Load CSV file into a DataFrame\n",
    "df = pd.read_csv('data/OCED_gdp.csv')\n",
    "\n",
    "# Display the first few rows of the DataFrame\n",
    "print(df.head())"
   ]
  },
  {
   "cell_type": "markdown",
   "metadata": {},
   "source": [
    "Now, we must filter out DataFrame for the OECD Data Explorer dataset, as this contains data spanning from 1960 to 2023. For the purpose of this study, we will focus on the year 2019 and store the filtered data in a new DataFrame. Similar to the previous step, we will print the first few rows of the filtered DataFrame as a \"sanity check\" to ensure the data is what we want to observe."
   ]
  },
  {
   "cell_type": "code",
   "execution_count": 3,
   "metadata": {},
   "outputs": [
    {
     "name": "stdout",
     "output_type": "stream",
     "text": [
      "69\n",
      "    STRUCTURE                                       STRUCTURE_ID  \\\n",
      "34   DATAFLOW  OECD.SDD.NAD:DSD_NAMAIN10@DF_TABLE1_EXPENDITUR...   \n",
      "57   DATAFLOW  OECD.SDD.NAD:DSD_NAMAIN10@DF_TABLE1_EXPENDITUR...   \n",
      "96   DATAFLOW  OECD.SDD.NAD:DSD_NAMAIN10@DF_TABLE1_EXPENDITUR...   \n",
      "130  DATAFLOW  OECD.SDD.NAD:DSD_NAMAIN10@DF_TABLE1_EXPENDITUR...   \n",
      "211  DATAFLOW  OECD.SDD.NAD:DSD_NAMAIN10@DF_TABLE1_EXPENDITUR...   \n",
      "\n",
      "                                        STRUCTURE_NAME ACTION FREQ  \\\n",
      "34   Annual GDP and consumption per capita, US $, c...      I    A   \n",
      "57   Annual GDP and consumption per capita, US $, c...      I    A   \n",
      "96   Annual GDP and consumption per capita, US $, c...      I    A   \n",
      "130  Annual GDP and consumption per capita, US $, c...      I    A   \n",
      "211  Annual GDP and consumption per capita, US $, c...      I    A   \n",
      "\n",
      "    Frequency of observation REF_AREA Reference area SECTOR  \\\n",
      "34                    Annual      TUR        Türkiye     S1   \n",
      "57                    Annual      SEN        Senegal     S1   \n",
      "96                    Annual      AUT        Austria     S1   \n",
      "130                   Annual      DEU        Germany     S1   \n",
      "211                   Annual      GRC         Greece     S1   \n",
      "\n",
      "    Institutional sector  ... CONF_STATUS       Confidentiality status  \\\n",
      "34         Total economy  ...           F  Free (free for publication)   \n",
      "57         Total economy  ...           F  Free (free for publication)   \n",
      "96         Total economy  ...           F  Free (free for publication)   \n",
      "130        Total economy  ...           F  Free (free for publication)   \n",
      "211        Total economy  ...           F  Free (free for publication)   \n",
      "\n",
      "    DECIMALS Decimals OBS_STATUS Observation status UNIT_MULT Unit multiplier  \\\n",
      "34         1      One          A       Normal value         0           Units   \n",
      "57         1      One          A       Normal value         0           Units   \n",
      "96         1      One          A       Normal value         0           Units   \n",
      "130        1      One          A       Normal value         0           Units   \n",
      "211        1      One          A       Normal value         0           Units   \n",
      "\n",
      "    CURRENCY        Currency  \n",
      "34        _Z  Not applicable  \n",
      "57        _Z  Not applicable  \n",
      "96        _Z  Not applicable  \n",
      "130       _Z  Not applicable  \n",
      "211       _Z  Not applicable  \n",
      "\n",
      "[5 rows x 44 columns]\n"
     ]
    }
   ],
   "source": [
    "# Filter the DataFrame to keep only rows where 'TIME_PERIOD' is 2019\n",
    "df_gdp_2019 = df[df['TIME_PERIOD'] == 2019]\n",
    "\n",
    "print(len(df_gdp_2019))\n",
    "\n",
    "\n",
    "# Display the first few rows of the filtered DataFrame\n",
    "print(df_gdp_2019.head())"
   ]
  },
  {
   "cell_type": "markdown",
   "metadata": {},
   "source": [
    "Our next step is to create a list of all the unique countries present in the DataFrame."
   ]
  },
  {
   "cell_type": "code",
   "execution_count": 4,
   "metadata": {},
   "outputs": [
    {
     "name": "stdout",
     "output_type": "stream",
     "text": [
      "['Türkiye' 'Senegal' 'Austria' 'Germany' 'Greece' 'Ireland' 'OECD'\n",
      " 'Mexico' 'Sweden' 'Estonia' 'United Kingdom' 'Luxembourg' 'Serbia'\n",
      " 'Brazil' 'Russia' 'Spain' 'Cyprus' 'Portugal' 'Malta' 'Romania'\n",
      " 'South Africa' 'Switzerland' 'Hong Kong (China)' 'Iceland' 'Korea'\n",
      " 'Albania' 'Croatia' 'Slovenia' 'Latvia' 'Costa Rica' 'Australia' 'Poland'\n",
      " 'Japan' 'Indonesia' 'North Macedonia' 'European Union (15 countries)'\n",
      " 'Euro area (20 countries)' 'OECD (26 countries)' 'Hungary' 'Argentina'\n",
      " 'Belgium' 'Finland' 'Singapore' 'Colombia' 'Czechia' 'Lithuania'\n",
      " 'United States' 'Norway' 'New Zealand' 'Israel' 'Saudi Arabia' 'Chile'\n",
      " 'Georgia' 'India' 'Italy' 'Zambia' 'China (People’s Republic of)'\n",
      " 'France' 'Denmark' 'OECD Europe'\n",
      " 'European Union (27 countries from 01/02/2020)' 'Bulgaria' 'Canada'\n",
      " 'Morocco' 'Cameroon' 'Netherlands' 'Madagascar' 'Cabo Verde'\n",
      " 'Slovak Republic']\n"
     ]
    }
   ],
   "source": [
    "# List all unique countries (or 'Reference area' values)\n",
    "countries = df_gdp_2019['Reference area'].unique()\n",
    "\n",
    "# Print the list of countries\n",
    "print(countries)\n"
   ]
  },
  {
   "cell_type": "markdown",
   "metadata": {},
   "source": [
    "Now that we have finished loading the data from OECD Data Explorer, we will repeat the process of creating a DataFrame but for the World Happiness dataset from Kaggle."
   ]
  },
  {
   "cell_type": "code",
   "execution_count": 5,
   "metadata": {},
   "outputs": [
    {
     "name": "stdout",
     "output_type": "stream",
     "text": [
      "156\n",
      "   Overall rank Country or region  Score  GDP per capita  Social support  \\\n",
      "0             1           Finland  7.769           1.340           1.587   \n",
      "1             2           Denmark  7.600           1.383           1.573   \n",
      "2             3            Norway  7.554           1.488           1.582   \n",
      "3             4           Iceland  7.494           1.380           1.624   \n",
      "4             5       Netherlands  7.488           1.396           1.522   \n",
      "\n",
      "   Healthy life expectancy  Freedom to make life choices  Generosity  \\\n",
      "0                    0.986                         0.596       0.153   \n",
      "1                    0.996                         0.592       0.252   \n",
      "2                    1.028                         0.603       0.271   \n",
      "3                    1.026                         0.591       0.354   \n",
      "4                    0.999                         0.557       0.322   \n",
      "\n",
      "   Perceptions of corruption  \n",
      "0                      0.393  \n",
      "1                      0.410  \n",
      "2                      0.341  \n",
      "3                      0.118  \n",
      "4                      0.298  \n"
     ]
    }
   ],
   "source": [
    "# now we load the World happiness dataset\n",
    "\n",
    "wh_df = pd.read_csv('data/World Happiness Report 2019.csv')\n",
    "\n",
    "# Display the first few rows of the DataFrame\n",
    "print(len(wh_df))\n",
    "\n",
    "# Display the first few rows of the DataFrame\n",
    "print(wh_df.head())"
   ]
  },
  {
   "cell_type": "markdown",
   "metadata": {},
   "source": [
    "Similar to the OECD Data Explorer dataset, we will also create a list of all the unique countries present in the World Happiness DataFrame."
   ]
  },
  {
   "cell_type": "code",
   "execution_count": 6,
   "metadata": {},
   "outputs": [
    {
     "name": "stdout",
     "output_type": "stream",
     "text": [
      "['Finland' 'Denmark' 'Norway' 'Iceland' 'Netherlands' 'Switzerland'\n",
      " 'Sweden' 'New Zealand' 'Canada' 'Austria' 'Australia' 'Costa Rica'\n",
      " 'Israel' 'Luxembourg' 'United Kingdom' 'Ireland' 'Germany' 'Belgium'\n",
      " 'United States' 'Czech Republic' 'United Arab Emirates' 'Malta' 'Mexico'\n",
      " 'France' 'Taiwan' 'Chile' 'Guatemala' 'Saudi Arabia' 'Qatar' 'Spain'\n",
      " 'Panama' 'Brazil' 'Uruguay' 'Singapore' 'El Salvador' 'Italy' 'Bahrain'\n",
      " 'Slovakia' 'Trinidad & Tobago' 'Poland' 'Uzbekistan' 'Lithuania'\n",
      " 'Colombia' 'Slovenia' 'Nicaragua' 'Kosovo' 'Argentina' 'Romania' 'Cyprus'\n",
      " 'Ecuador' 'Kuwait' 'Thailand' 'Latvia' 'South Korea' 'Estonia' 'Jamaica'\n",
      " 'Mauritius' 'Japan' 'Honduras' 'Kazakhstan' 'Bolivia' 'Hungary'\n",
      " 'Paraguay' 'Northern Cyprus' 'Peru' 'Portugal' 'Pakistan' 'Russia'\n",
      " 'Philippines' 'Serbia' 'Moldova' 'Libya' 'Montenegro' 'Tajikistan'\n",
      " 'Croatia' 'Hong Kong' 'Dominican Republic' 'Bosnia and Herzegovina'\n",
      " 'Turkey' 'Malaysia' 'Belarus' 'Greece' 'Mongolia' 'North Macedonia'\n",
      " 'Nigeria' 'Kyrgyzstan' 'Turkmenistan' 'Algeria' 'Morocco' 'Azerbaijan'\n",
      " 'Lebanon' 'Indonesia' 'China' 'Vietnam' 'Bhutan' 'Cameroon' 'Bulgaria'\n",
      " 'Ghana' 'Ivory Coast' 'Nepal' 'Jordan' 'Benin' 'Congo (Brazzaville)'\n",
      " 'Gabon' 'Laos' 'South Africa' 'Albania' 'Venezuela' 'Cambodia'\n",
      " 'Palestinian Territories' 'Senegal' 'Somalia' 'Namibia' 'Niger'\n",
      " 'Burkina Faso' 'Armenia' 'Iran' 'Guinea' 'Georgia' 'Gambia' 'Kenya'\n",
      " 'Mauritania' 'Mozambique' 'Tunisia' 'Bangladesh' 'Iraq'\n",
      " 'Congo (Kinshasa)' 'Mali' 'Sierra Leone' 'Sri Lanka' 'Myanmar' 'Chad'\n",
      " 'Ukraine' 'Ethiopia' 'Swaziland' 'Uganda' 'Egypt' 'Zambia' 'Togo' 'India'\n",
      " 'Liberia' 'Comoros' 'Madagascar' 'Lesotho' 'Burundi' 'Zimbabwe' 'Haiti'\n",
      " 'Botswana' 'Syria' 'Malawi' 'Yemen' 'Rwanda' 'Tanzania' 'Afghanistan'\n",
      " 'Central African Republic' 'South Sudan']\n"
     ]
    }
   ],
   "source": [
    "# List all unique countries (or 'Reference area' values)\n",
    "countries_wf = wh_df['Country or region'].unique()\n",
    "\n",
    "# Print the list of countries\n",
    "print(countries_wf)\n",
    "\n"
   ]
  },
  {
   "cell_type": "markdown",
   "metadata": {},
   "source": [
    "The next step is to merge the datasets. The purpose of merging the datasets is to check how many countries are available in both the OECD Data Explorer and Kaggle datasets."
   ]
  },
  {
   "cell_type": "code",
   "execution_count": 7,
   "metadata": {},
   "outputs": [
    {
     "name": "stdout",
     "output_type": "stream",
     "text": [
      "   STRUCTURE                                       STRUCTURE_ID  \\\n",
      "0   DATAFLOW  OECD.SDD.NAD:DSD_NAMAIN10@DF_TABLE1_EXPENDITUR...   \n",
      "1   DATAFLOW  OECD.SDD.NAD:DSD_NAMAIN10@DF_TABLE1_EXPENDITUR...   \n",
      "2   DATAFLOW  OECD.SDD.NAD:DSD_NAMAIN10@DF_TABLE1_EXPENDITUR...   \n",
      "3   DATAFLOW  OECD.SDD.NAD:DSD_NAMAIN10@DF_TABLE1_EXPENDITUR...   \n",
      "4   DATAFLOW  OECD.SDD.NAD:DSD_NAMAIN10@DF_TABLE1_EXPENDITUR...   \n",
      "5   DATAFLOW  OECD.SDD.NAD:DSD_NAMAIN10@DF_TABLE1_EXPENDITUR...   \n",
      "6   DATAFLOW  OECD.SDD.NAD:DSD_NAMAIN10@DF_TABLE1_EXPENDITUR...   \n",
      "7   DATAFLOW  OECD.SDD.NAD:DSD_NAMAIN10@DF_TABLE1_EXPENDITUR...   \n",
      "8   DATAFLOW  OECD.SDD.NAD:DSD_NAMAIN10@DF_TABLE1_EXPENDITUR...   \n",
      "9   DATAFLOW  OECD.SDD.NAD:DSD_NAMAIN10@DF_TABLE1_EXPENDITUR...   \n",
      "10  DATAFLOW  OECD.SDD.NAD:DSD_NAMAIN10@DF_TABLE1_EXPENDITUR...   \n",
      "11  DATAFLOW  OECD.SDD.NAD:DSD_NAMAIN10@DF_TABLE1_EXPENDITUR...   \n",
      "12  DATAFLOW  OECD.SDD.NAD:DSD_NAMAIN10@DF_TABLE1_EXPENDITUR...   \n",
      "13  DATAFLOW  OECD.SDD.NAD:DSD_NAMAIN10@DF_TABLE1_EXPENDITUR...   \n",
      "14  DATAFLOW  OECD.SDD.NAD:DSD_NAMAIN10@DF_TABLE1_EXPENDITUR...   \n",
      "15  DATAFLOW  OECD.SDD.NAD:DSD_NAMAIN10@DF_TABLE1_EXPENDITUR...   \n",
      "16  DATAFLOW  OECD.SDD.NAD:DSD_NAMAIN10@DF_TABLE1_EXPENDITUR...   \n",
      "17  DATAFLOW  OECD.SDD.NAD:DSD_NAMAIN10@DF_TABLE1_EXPENDITUR...   \n",
      "18  DATAFLOW  OECD.SDD.NAD:DSD_NAMAIN10@DF_TABLE1_EXPENDITUR...   \n",
      "19  DATAFLOW  OECD.SDD.NAD:DSD_NAMAIN10@DF_TABLE1_EXPENDITUR...   \n",
      "20  DATAFLOW  OECD.SDD.NAD:DSD_NAMAIN10@DF_TABLE1_EXPENDITUR...   \n",
      "21  DATAFLOW  OECD.SDD.NAD:DSD_NAMAIN10@DF_TABLE1_EXPENDITUR...   \n",
      "22  DATAFLOW  OECD.SDD.NAD:DSD_NAMAIN10@DF_TABLE1_EXPENDITUR...   \n",
      "23  DATAFLOW  OECD.SDD.NAD:DSD_NAMAIN10@DF_TABLE1_EXPENDITUR...   \n",
      "24  DATAFLOW  OECD.SDD.NAD:DSD_NAMAIN10@DF_TABLE1_EXPENDITUR...   \n",
      "25  DATAFLOW  OECD.SDD.NAD:DSD_NAMAIN10@DF_TABLE1_EXPENDITUR...   \n",
      "26  DATAFLOW  OECD.SDD.NAD:DSD_NAMAIN10@DF_TABLE1_EXPENDITUR...   \n",
      "27  DATAFLOW  OECD.SDD.NAD:DSD_NAMAIN10@DF_TABLE1_EXPENDITUR...   \n",
      "28  DATAFLOW  OECD.SDD.NAD:DSD_NAMAIN10@DF_TABLE1_EXPENDITUR...   \n",
      "29  DATAFLOW  OECD.SDD.NAD:DSD_NAMAIN10@DF_TABLE1_EXPENDITUR...   \n",
      "30  DATAFLOW  OECD.SDD.NAD:DSD_NAMAIN10@DF_TABLE1_EXPENDITUR...   \n",
      "31  DATAFLOW  OECD.SDD.NAD:DSD_NAMAIN10@DF_TABLE1_EXPENDITUR...   \n",
      "32  DATAFLOW  OECD.SDD.NAD:DSD_NAMAIN10@DF_TABLE1_EXPENDITUR...   \n",
      "33  DATAFLOW  OECD.SDD.NAD:DSD_NAMAIN10@DF_TABLE1_EXPENDITUR...   \n",
      "34  DATAFLOW  OECD.SDD.NAD:DSD_NAMAIN10@DF_TABLE1_EXPENDITUR...   \n",
      "35  DATAFLOW  OECD.SDD.NAD:DSD_NAMAIN10@DF_TABLE1_EXPENDITUR...   \n",
      "36  DATAFLOW  OECD.SDD.NAD:DSD_NAMAIN10@DF_TABLE1_EXPENDITUR...   \n",
      "37  DATAFLOW  OECD.SDD.NAD:DSD_NAMAIN10@DF_TABLE1_EXPENDITUR...   \n",
      "38  DATAFLOW  OECD.SDD.NAD:DSD_NAMAIN10@DF_TABLE1_EXPENDITUR...   \n",
      "39  DATAFLOW  OECD.SDD.NAD:DSD_NAMAIN10@DF_TABLE1_EXPENDITUR...   \n",
      "40  DATAFLOW  OECD.SDD.NAD:DSD_NAMAIN10@DF_TABLE1_EXPENDITUR...   \n",
      "41  DATAFLOW  OECD.SDD.NAD:DSD_NAMAIN10@DF_TABLE1_EXPENDITUR...   \n",
      "42  DATAFLOW  OECD.SDD.NAD:DSD_NAMAIN10@DF_TABLE1_EXPENDITUR...   \n",
      "43  DATAFLOW  OECD.SDD.NAD:DSD_NAMAIN10@DF_TABLE1_EXPENDITUR...   \n",
      "44  DATAFLOW  OECD.SDD.NAD:DSD_NAMAIN10@DF_TABLE1_EXPENDITUR...   \n",
      "45  DATAFLOW  OECD.SDD.NAD:DSD_NAMAIN10@DF_TABLE1_EXPENDITUR...   \n",
      "46  DATAFLOW  OECD.SDD.NAD:DSD_NAMAIN10@DF_TABLE1_EXPENDITUR...   \n",
      "47  DATAFLOW  OECD.SDD.NAD:DSD_NAMAIN10@DF_TABLE1_EXPENDITUR...   \n",
      "48  DATAFLOW  OECD.SDD.NAD:DSD_NAMAIN10@DF_TABLE1_EXPENDITUR...   \n",
      "49  DATAFLOW  OECD.SDD.NAD:DSD_NAMAIN10@DF_TABLE1_EXPENDITUR...   \n",
      "50  DATAFLOW  OECD.SDD.NAD:DSD_NAMAIN10@DF_TABLE1_EXPENDITUR...   \n",
      "51  DATAFLOW  OECD.SDD.NAD:DSD_NAMAIN10@DF_TABLE1_EXPENDITUR...   \n",
      "52  DATAFLOW  OECD.SDD.NAD:DSD_NAMAIN10@DF_TABLE1_EXPENDITUR...   \n",
      "53  DATAFLOW  OECD.SDD.NAD:DSD_NAMAIN10@DF_TABLE1_EXPENDITUR...   \n",
      "54  DATAFLOW  OECD.SDD.NAD:DSD_NAMAIN10@DF_TABLE1_EXPENDITUR...   \n",
      "55  DATAFLOW  OECD.SDD.NAD:DSD_NAMAIN10@DF_TABLE1_EXPENDITUR...   \n",
      "\n",
      "                                       STRUCTURE_NAME ACTION FREQ  \\\n",
      "0   Annual GDP and consumption per capita, US $, c...      I    A   \n",
      "1   Annual GDP and consumption per capita, US $, c...      I    A   \n",
      "2   Annual GDP and consumption per capita, US $, c...      I    A   \n",
      "3   Annual GDP and consumption per capita, US $, c...      I    A   \n",
      "4   Annual GDP and consumption per capita, US $, c...      I    A   \n",
      "5   Annual GDP and consumption per capita, US $, c...      I    A   \n",
      "6   Annual GDP and consumption per capita, US $, c...      I    A   \n",
      "7   Annual GDP and consumption per capita, US $, c...      I    A   \n",
      "8   Annual GDP and consumption per capita, US $, c...      I    A   \n",
      "9   Annual GDP and consumption per capita, US $, c...      I    A   \n",
      "10  Annual GDP and consumption per capita, US $, c...      I    A   \n",
      "11  Annual GDP and consumption per capita, US $, c...      I    A   \n",
      "12  Annual GDP and consumption per capita, US $, c...      I    A   \n",
      "13  Annual GDP and consumption per capita, US $, c...      I    A   \n",
      "14  Annual GDP and consumption per capita, US $, c...      I    A   \n",
      "15  Annual GDP and consumption per capita, US $, c...      I    A   \n",
      "16  Annual GDP and consumption per capita, US $, c...      I    A   \n",
      "17  Annual GDP and consumption per capita, US $, c...      I    A   \n",
      "18  Annual GDP and consumption per capita, US $, c...      I    A   \n",
      "19  Annual GDP and consumption per capita, US $, c...      I    A   \n",
      "20  Annual GDP and consumption per capita, US $, c...      I    A   \n",
      "21  Annual GDP and consumption per capita, US $, c...      I    A   \n",
      "22  Annual GDP and consumption per capita, US $, c...      I    A   \n",
      "23  Annual GDP and consumption per capita, US $, c...      I    A   \n",
      "24  Annual GDP and consumption per capita, US $, c...      I    A   \n",
      "25  Annual GDP and consumption per capita, US $, c...      I    A   \n",
      "26  Annual GDP and consumption per capita, US $, c...      I    A   \n",
      "27  Annual GDP and consumption per capita, US $, c...      I    A   \n",
      "28  Annual GDP and consumption per capita, US $, c...      I    A   \n",
      "29  Annual GDP and consumption per capita, US $, c...      I    A   \n",
      "30  Annual GDP and consumption per capita, US $, c...      I    A   \n",
      "31  Annual GDP and consumption per capita, US $, c...      I    A   \n",
      "32  Annual GDP and consumption per capita, US $, c...      I    A   \n",
      "33  Annual GDP and consumption per capita, US $, c...      I    A   \n",
      "34  Annual GDP and consumption per capita, US $, c...      I    A   \n",
      "35  Annual GDP and consumption per capita, US $, c...      I    A   \n",
      "36  Annual GDP and consumption per capita, US $, c...      I    A   \n",
      "37  Annual GDP and consumption per capita, US $, c...      I    A   \n",
      "38  Annual GDP and consumption per capita, US $, c...      I    A   \n",
      "39  Annual GDP and consumption per capita, US $, c...      I    A   \n",
      "40  Annual GDP and consumption per capita, US $, c...      I    A   \n",
      "41  Annual GDP and consumption per capita, US $, c...      I    A   \n",
      "42  Annual GDP and consumption per capita, US $, c...      I    A   \n",
      "43  Annual GDP and consumption per capita, US $, c...      I    A   \n",
      "44  Annual GDP and consumption per capita, US $, c...      I    A   \n",
      "45  Annual GDP and consumption per capita, US $, c...      I    A   \n",
      "46  Annual GDP and consumption per capita, US $, c...      I    A   \n",
      "47  Annual GDP and consumption per capita, US $, c...      I    A   \n",
      "48  Annual GDP and consumption per capita, US $, c...      I    A   \n",
      "49  Annual GDP and consumption per capita, US $, c...      I    A   \n",
      "50  Annual GDP and consumption per capita, US $, c...      I    A   \n",
      "51  Annual GDP and consumption per capita, US $, c...      I    A   \n",
      "52  Annual GDP and consumption per capita, US $, c...      I    A   \n",
      "53  Annual GDP and consumption per capita, US $, c...      I    A   \n",
      "54  Annual GDP and consumption per capita, US $, c...      I    A   \n",
      "55  Annual GDP and consumption per capita, US $, c...      I    A   \n",
      "\n",
      "   Frequency of observation REF_AREA   Reference area SECTOR  \\\n",
      "0                    Annual      SEN          Senegal     S1   \n",
      "1                    Annual      AUT          Austria     S1   \n",
      "2                    Annual      DEU          Germany     S1   \n",
      "3                    Annual      GRC           Greece     S1   \n",
      "4                    Annual      IRL          Ireland     S1   \n",
      "5                    Annual      MEX           Mexico     S1   \n",
      "6                    Annual      SWE           Sweden     S1   \n",
      "7                    Annual      EST          Estonia     S1   \n",
      "8                    Annual      GBR   United Kingdom     S1   \n",
      "9                    Annual      LUX       Luxembourg     S1   \n",
      "10                   Annual      SRB           Serbia     S1   \n",
      "11                   Annual      BRA           Brazil     S1   \n",
      "12                   Annual      RUS           Russia     S1   \n",
      "13                   Annual      ESP            Spain     S1   \n",
      "14                   Annual      CYP           Cyprus     S1   \n",
      "15                   Annual      PRT         Portugal     S1   \n",
      "16                   Annual      MLT            Malta     S1   \n",
      "17                   Annual      ROU          Romania     S1   \n",
      "18                   Annual      ZAF     South Africa     S1   \n",
      "19                   Annual      CHE      Switzerland     S1   \n",
      "20                   Annual      ISL          Iceland     S1   \n",
      "21                   Annual      ALB          Albania     S1   \n",
      "22                   Annual      HRV          Croatia     S1   \n",
      "23                   Annual      SVN         Slovenia     S1   \n",
      "24                   Annual      LVA           Latvia     S1   \n",
      "25                   Annual      CRI       Costa Rica     S1   \n",
      "26                   Annual      AUS        Australia     S1   \n",
      "27                   Annual      POL           Poland     S1   \n",
      "28                   Annual      JPN            Japan     S1   \n",
      "29                   Annual      IDN        Indonesia     S1   \n",
      "30                   Annual      MKD  North Macedonia     S1   \n",
      "31                   Annual      HUN          Hungary     S1   \n",
      "32                   Annual      ARG        Argentina     S1   \n",
      "33                   Annual      BEL          Belgium     S1   \n",
      "34                   Annual      FIN          Finland     S1   \n",
      "35                   Annual      SGP        Singapore     S1   \n",
      "36                   Annual      COL         Colombia     S1   \n",
      "37                   Annual      LTU        Lithuania     S1   \n",
      "38                   Annual      USA    United States     S1   \n",
      "39                   Annual      NOR           Norway     S1   \n",
      "40                   Annual      NZL      New Zealand     S1   \n",
      "41                   Annual      ISR           Israel     S1   \n",
      "42                   Annual      SAU     Saudi Arabia     S1   \n",
      "43                   Annual      CHL            Chile     S1   \n",
      "44                   Annual      GEO          Georgia     S1   \n",
      "45                   Annual      IND            India     S1   \n",
      "46                   Annual      ITA            Italy     S1   \n",
      "47                   Annual      ZMB           Zambia     S1   \n",
      "48                   Annual      FRA           France     S1   \n",
      "49                   Annual      DNK          Denmark     S1   \n",
      "50                   Annual      BGR         Bulgaria     S1   \n",
      "51                   Annual      CAN           Canada     S1   \n",
      "52                   Annual      MAR          Morocco     S1   \n",
      "53                   Annual      CMR         Cameroon     S1   \n",
      "54                   Annual      NLD      Netherlands     S1   \n",
      "55                   Annual      MDG       Madagascar     S1   \n",
      "\n",
      "   Institutional sector  ...        Currency Overall rank Country or region  \\\n",
      "0         Total economy  ...  Not applicable          111           Senegal   \n",
      "1         Total economy  ...  Not applicable           10           Austria   \n",
      "2         Total economy  ...  Not applicable           17           Germany   \n",
      "3         Total economy  ...  Not applicable           82            Greece   \n",
      "4         Total economy  ...  Not applicable           16           Ireland   \n",
      "5         Total economy  ...  Not applicable           23            Mexico   \n",
      "6         Total economy  ...  Not applicable            7            Sweden   \n",
      "7         Total economy  ...  Not applicable           55           Estonia   \n",
      "8         Total economy  ...  Not applicable           15    United Kingdom   \n",
      "9         Total economy  ...  Not applicable           14        Luxembourg   \n",
      "10        Total economy  ...  Not applicable           70            Serbia   \n",
      "11        Total economy  ...  Not applicable           32            Brazil   \n",
      "12        Total economy  ...  Not applicable           68            Russia   \n",
      "13        Total economy  ...  Not applicable           30             Spain   \n",
      "14        Total economy  ...  Not applicable           49            Cyprus   \n",
      "15        Total economy  ...  Not applicable           66          Portugal   \n",
      "16        Total economy  ...  Not applicable           22             Malta   \n",
      "17        Total economy  ...  Not applicable           48           Romania   \n",
      "18        Total economy  ...  Not applicable          106      South Africa   \n",
      "19        Total economy  ...  Not applicable            6       Switzerland   \n",
      "20        Total economy  ...  Not applicable            4           Iceland   \n",
      "21        Total economy  ...  Not applicable          107           Albania   \n",
      "22        Total economy  ...  Not applicable           75           Croatia   \n",
      "23        Total economy  ...  Not applicable           44          Slovenia   \n",
      "24        Total economy  ...  Not applicable           53            Latvia   \n",
      "25        Total economy  ...  Not applicable           12        Costa Rica   \n",
      "26        Total economy  ...  Not applicable           11         Australia   \n",
      "27        Total economy  ...  Not applicable           40            Poland   \n",
      "28        Total economy  ...  Not applicable           58             Japan   \n",
      "29        Total economy  ...  Not applicable           92         Indonesia   \n",
      "30        Total economy  ...  Not applicable           84   North Macedonia   \n",
      "31        Total economy  ...  Not applicable           62           Hungary   \n",
      "32        Total economy  ...  Not applicable           47         Argentina   \n",
      "33        Total economy  ...  Not applicable           18           Belgium   \n",
      "34        Total economy  ...  Not applicable            1           Finland   \n",
      "35        Total economy  ...  Not applicable           34         Singapore   \n",
      "36        Total economy  ...  Not applicable           43          Colombia   \n",
      "37        Total economy  ...  Not applicable           42         Lithuania   \n",
      "38        Total economy  ...  Not applicable           19     United States   \n",
      "39        Total economy  ...  Not applicable            3            Norway   \n",
      "40        Total economy  ...  Not applicable            8       New Zealand   \n",
      "41        Total economy  ...  Not applicable           13            Israel   \n",
      "42        Total economy  ...  Not applicable           28      Saudi Arabia   \n",
      "43        Total economy  ...  Not applicable           26             Chile   \n",
      "44        Total economy  ...  Not applicable          119           Georgia   \n",
      "45        Total economy  ...  Not applicable          140             India   \n",
      "46        Total economy  ...  Not applicable           36             Italy   \n",
      "47        Total economy  ...  Not applicable          138            Zambia   \n",
      "48        Total economy  ...  Not applicable           24            France   \n",
      "49        Total economy  ...  Not applicable            2           Denmark   \n",
      "50        Total economy  ...  Not applicable           97          Bulgaria   \n",
      "51        Total economy  ...  Not applicable            9            Canada   \n",
      "52        Total economy  ...  Not applicable           89           Morocco   \n",
      "53        Total economy  ...  Not applicable           96          Cameroon   \n",
      "54        Total economy  ...  Not applicable            5       Netherlands   \n",
      "55        Total economy  ...  Not applicable          143        Madagascar   \n",
      "\n",
      "    Score GDP per capita Social support Healthy life expectancy  \\\n",
      "0   4.681          0.450          1.134                   0.571   \n",
      "1   7.246          1.376          1.475                   1.016   \n",
      "2   6.985          1.373          1.454                   0.987   \n",
      "3   5.287          1.181          1.156                   0.999   \n",
      "4   7.021          1.499          1.553                   0.999   \n",
      "5   6.595          1.070          1.323                   0.861   \n",
      "6   7.343          1.387          1.487                   1.009   \n",
      "7   5.893          1.237          1.528                   0.874   \n",
      "8   7.054          1.333          1.538                   0.996   \n",
      "9   7.090          1.609          1.479                   1.012   \n",
      "10  5.603          1.004          1.383                   0.854   \n",
      "11  6.300          1.004          1.439                   0.802   \n",
      "12  5.648          1.183          1.452                   0.726   \n",
      "13  6.354          1.286          1.484                   1.062   \n",
      "14  6.046          1.263          1.223                   1.042   \n",
      "15  5.693          1.221          1.431                   0.999   \n",
      "16  6.726          1.300          1.520                   0.999   \n",
      "17  6.070          1.162          1.232                   0.825   \n",
      "18  4.722          0.960          1.351                   0.469   \n",
      "19  7.480          1.452          1.526                   1.052   \n",
      "20  7.494          1.380          1.624                   1.026   \n",
      "21  4.719          0.947          0.848                   0.874   \n",
      "22  5.432          1.155          1.266                   0.914   \n",
      "23  6.118          1.258          1.523                   0.953   \n",
      "24  5.940          1.187          1.465                   0.812   \n",
      "25  7.167          1.034          1.441                   0.963   \n",
      "26  7.228          1.372          1.548                   1.036   \n",
      "27  6.182          1.206          1.438                   0.884   \n",
      "28  5.886          1.327          1.419                   1.088   \n",
      "29  5.192          0.931          1.203                   0.660   \n",
      "30  5.274          0.983          1.294                   0.838   \n",
      "31  5.758          1.201          1.410                   0.828   \n",
      "32  6.086          1.092          1.432                   0.881   \n",
      "33  6.923          1.356          1.504                   0.986   \n",
      "34  7.769          1.340          1.587                   0.986   \n",
      "35  6.262          1.572          1.463                   1.141   \n",
      "36  6.125          0.985          1.410                   0.841   \n",
      "37  6.149          1.238          1.515                   0.818   \n",
      "38  6.892          1.433          1.457                   0.874   \n",
      "39  7.554          1.488          1.582                   1.028   \n",
      "40  7.307          1.303          1.557                   1.026   \n",
      "41  7.139          1.276          1.455                   1.029   \n",
      "42  6.375          1.403          1.357                   0.795   \n",
      "43  6.444          1.159          1.369                   0.920   \n",
      "44  4.519          0.886          0.666                   0.752   \n",
      "45  4.015          0.755          0.765                   0.588   \n",
      "46  6.223          1.294          1.488                   1.039   \n",
      "47  4.107          0.578          1.058                   0.426   \n",
      "48  6.592          1.324          1.472                   1.045   \n",
      "49  7.600          1.383          1.573                   0.996   \n",
      "50  5.011          1.092          1.513                   0.815   \n",
      "51  7.278          1.365          1.505                   1.039   \n",
      "52  5.208          0.801          0.782                   0.782   \n",
      "53  5.044          0.549          0.910                   0.331   \n",
      "54  7.488          1.396          1.522                   0.999   \n",
      "55  3.933          0.274          0.916                   0.555   \n",
      "\n",
      "   Freedom to make life choices Generosity Perceptions of corruption  \n",
      "0                         0.292      0.153                     0.072  \n",
      "1                         0.532      0.244                     0.226  \n",
      "2                         0.495      0.261                     0.265  \n",
      "3                         0.067      0.000                     0.034  \n",
      "4                         0.516      0.298                     0.310  \n",
      "5                         0.433      0.074                     0.073  \n",
      "6                         0.574      0.267                     0.373  \n",
      "7                         0.495      0.103                     0.161  \n",
      "8                         0.450      0.348                     0.278  \n",
      "9                         0.526      0.194                     0.316  \n",
      "10                        0.282      0.137                     0.039  \n",
      "11                        0.390      0.099                     0.086  \n",
      "12                        0.334      0.082                     0.031  \n",
      "13                        0.362      0.153                     0.079  \n",
      "14                        0.406      0.190                     0.041  \n",
      "15                        0.508      0.047                     0.025  \n",
      "16                        0.564      0.375                     0.151  \n",
      "17                        0.462      0.083                     0.005  \n",
      "18                        0.389      0.130                     0.055  \n",
      "19                        0.572      0.263                     0.343  \n",
      "20                        0.591      0.354                     0.118  \n",
      "21                        0.383      0.178                     0.027  \n",
      "22                        0.296      0.119                     0.022  \n",
      "23                        0.564      0.144                     0.057  \n",
      "24                        0.264      0.075                     0.064  \n",
      "25                        0.558      0.144                     0.093  \n",
      "26                        0.557      0.332                     0.290  \n",
      "27                        0.483      0.117                     0.050  \n",
      "28                        0.445      0.069                     0.140  \n",
      "29                        0.491      0.498                     0.028  \n",
      "30                        0.345      0.185                     0.034  \n",
      "31                        0.199      0.081                     0.020  \n",
      "32                        0.471      0.066                     0.050  \n",
      "33                        0.473      0.160                     0.210  \n",
      "34                        0.596      0.153                     0.393  \n",
      "35                        0.556      0.271                     0.453  \n",
      "36                        0.470      0.099                     0.034  \n",
      "37                        0.291      0.043                     0.042  \n",
      "38                        0.454      0.280                     0.128  \n",
      "39                        0.603      0.271                     0.341  \n",
      "40                        0.585      0.330                     0.380  \n",
      "41                        0.371      0.261                     0.082  \n",
      "42                        0.439      0.080                     0.132  \n",
      "43                        0.357      0.187                     0.056  \n",
      "44                        0.346      0.043                     0.164  \n",
      "45                        0.498      0.200                     0.085  \n",
      "46                        0.231      0.158                     0.030  \n",
      "47                        0.431      0.247                     0.087  \n",
      "48                        0.436      0.111                     0.183  \n",
      "49                        0.592      0.252                     0.410  \n",
      "50                        0.311      0.081                     0.004  \n",
      "51                        0.584      0.285                     0.308  \n",
      "52                        0.418      0.036                     0.076  \n",
      "53                        0.381      0.187                     0.037  \n",
      "54                        0.557      0.322                     0.298  \n",
      "55                        0.148      0.169                     0.041  \n",
      "\n",
      "[56 rows x 53 columns]\n",
      "56\n"
     ]
    }
   ],
   "source": [
    "# do exact character matching to create a dataset / merge the data, we are going to do an inner join because we want rows from BOTH tables when there\n",
    "# is a match in country / region name. For simplicity, we are only doing countries but that is the name of the column.\n",
    "merged_df = pd.merge(df_gdp_2019, wh_df, left_on='Reference area', right_on='Country or region', how='inner')\n",
    "\n",
    "print(merged_df)\n",
    "\n",
    "print(len(merged_df))\n"
   ]
  },
  {
   "cell_type": "markdown",
   "metadata": {},
   "source": [
    "After merging the datasets, we will print a list of the countries available in both the OECD Data Explorer Dataset and the Kaggle dataset."
   ]
  },
  {
   "cell_type": "code",
   "execution_count": 8,
   "metadata": {},
   "outputs": [
    {
     "name": "stdout",
     "output_type": "stream",
     "text": [
      "['Senegal' 'Austria' 'Germany' 'Greece' 'Ireland' 'Mexico' 'Sweden'\n",
      " 'Estonia' 'United Kingdom' 'Luxembourg' 'Serbia' 'Brazil' 'Russia'\n",
      " 'Spain' 'Cyprus' 'Portugal' 'Malta' 'Romania' 'South Africa'\n",
      " 'Switzerland' 'Iceland' 'Albania' 'Croatia' 'Slovenia' 'Latvia'\n",
      " 'Costa Rica' 'Australia' 'Poland' 'Japan' 'Indonesia' 'North Macedonia'\n",
      " 'Hungary' 'Argentina' 'Belgium' 'Finland' 'Singapore' 'Colombia'\n",
      " 'Lithuania' 'United States' 'Norway' 'New Zealand' 'Israel'\n",
      " 'Saudi Arabia' 'Chile' 'Georgia' 'India' 'Italy' 'Zambia' 'France'\n",
      " 'Denmark' 'Bulgaria' 'Canada' 'Morocco' 'Cameroon' 'Netherlands'\n",
      " 'Madagascar']\n",
      "56\n"
     ]
    }
   ],
   "source": [
    "# List all unique countries in our merged dataset\n",
    "countries_merged = merged_df['Country or region'].unique()\n",
    "\n",
    "# Print the list of countries and length\n",
    "print(countries_merged)\n",
    "print(len(countries_merged))\n",
    "\n"
   ]
  },
  {
   "cell_type": "markdown",
   "metadata": {},
   "source": [
    "Now that we have finished cleaning and transforming the data, we can begin analyzing. We will first start by sorting by GDP and selecting certain columns to get the data we need and care about for the analysis. Our selected columns will be country or region, score, OBS value, and GDP per capita. This data will be stored in a new DataFrame. "
   ]
  },
  {
   "cell_type": "code",
   "execution_count": 9,
   "metadata": {},
   "outputs": [
    {
     "name": "stdout",
     "output_type": "stream",
     "text": [
      "   Country or region  Score      OBS_VALUE  GDP per capita\n",
      "9         Luxembourg  7.090  121105.786488           1.609\n",
      "35         Singapore  6.262  105516.499105           1.572\n",
      "4            Ireland  7.021   92189.163692           1.499\n",
      "19       Switzerland  7.480   73695.387069           1.452\n",
      "39            Norway  7.554   70938.225099           1.488\n",
      "38     United States  6.892   65115.124065           1.433\n",
      "54       Netherlands  7.488   62344.802006           1.396\n",
      "20           Iceland  7.494   62031.408105           1.380\n",
      "49           Denmark  7.600   60568.735529           1.383\n",
      "1            Austria  7.246   60370.444015           1.376\n",
      "2            Germany  6.985   59270.693277           1.373\n",
      "6             Sweden  7.343   57046.427857           1.387\n",
      "33           Belgium  6.923   56712.355972           1.356\n",
      "26         Australia  7.228   53681.424509           1.372\n",
      "34           Finland  7.769   52276.174135           1.340\n",
      "48            France  6.592   51119.646958           1.324\n",
      "51            Canada  7.278   50498.963113           1.365\n",
      "8     United Kingdom  7.054   50064.959661           1.333\n",
      "16             Malta  6.726   49875.307379           1.300\n",
      "42      Saudi Arabia  6.375   49366.475171           1.403\n",
      "46             Italy  6.223   46661.895024           1.294\n",
      "40       New Zealand  7.307   44862.748114           1.303\n",
      "14            Cyprus  6.046   44683.639374           1.263\n",
      "13             Spain  6.354   44071.522632           1.286\n",
      "28             Japan  5.886   42835.817421           1.327\n",
      "23          Slovenia  6.118   42360.507950           1.258\n",
      "41            Israel  7.139   41369.124524           1.276\n",
      "7            Estonia  5.893   40650.011527           1.237\n",
      "37         Lithuania  6.149   40563.874147           1.238\n",
      "15          Portugal  5.693   37616.202115           1.221\n",
      "27            Poland  6.182   35898.762974           1.206\n",
      "31           Hungary  5.758   35627.231655           1.201\n",
      "17           Romania  6.070   33511.613305           1.162\n",
      "22           Croatia  5.432   32751.931759           1.155\n",
      "24            Latvia  5.940   32209.789734           1.187\n",
      "3             Greece  5.287   31927.426031           1.181\n",
      "12            Russia  5.648   31098.963718           1.183\n",
      "50          Bulgaria  5.011   26815.089890           1.092\n",
      "43             Chile  6.444   25733.103669           1.159\n",
      "32         Argentina  6.086   23535.012750           1.092\n",
      "25        Costa Rica  7.167   23082.516179           1.034\n",
      "5             Mexico  6.595   21098.977006           1.070\n",
      "10            Serbia  5.603   19688.982681           1.004\n",
      "30   North Macedonia  5.274   18270.799942           0.983\n",
      "36          Colombia  6.125   16712.410595           0.985\n",
      "44           Georgia  4.519   16610.497005           0.886\n",
      "11            Brazil  6.300   15864.007757           1.004\n",
      "18      South Africa  4.722   14626.004390           0.960\n",
      "21           Albania  4.719   14618.338927           0.947\n",
      "29         Indonesia  5.192   12236.943469           0.931\n",
      "52           Morocco  5.208    8309.034020           0.801\n",
      "45             India  4.015    7407.047367           0.755\n",
      "53          Cameroon  5.044    4180.483815           0.549\n",
      "0            Senegal  4.681    3680.316846           0.450\n",
      "47            Zambia  4.107    3385.786571           0.578\n",
      "55        Madagascar  3.933    1667.871193           0.274\n"
     ]
    }
   ],
   "source": [
    "# now we can begin our analysis\n",
    "\n",
    "# sort by largest happiness score, otherwise known as 'score'\n",
    "sorted_df = merged_df.sort_values(by='OBS_VALUE', ascending=False)\n",
    "selected_columns_df = sorted_df[['Country or region', 'Score', 'OBS_VALUE', 'GDP per capita']]\n",
    "\n",
    "# Display the sorted dataframe with selected columns\n",
    "print(selected_columns_df)"
   ]
  },
  {
   "cell_type": "markdown",
   "metadata": {},
   "source": [
    "We can now conduct a regression analysis to explore the relationship between GDP per capita and World Happiness score, however we first need to import from the Scikit-Learn library. \n",
    "\n",
    "For the regression analysis, we will compute the R-squared value, mean-squared error, and coefficient of the regression model."
   ]
  },
  {
   "cell_type": "code",
   "execution_count": 10,
   "metadata": {},
   "outputs": [
    {
     "name": "stdout",
     "output_type": "stream",
     "text": [
      "R-squared: 0.48243441716692737\n",
      "Mean Squared Error: 0.49757482425426586\n",
      "Coefficient (GDP effect on happiness): 3.267597308385348e-05\n"
     ]
    }
   ],
   "source": [
    "# for the regression analysis, we will use scikit learn (recommended by Brock!)\n",
    "from sklearn.linear_model import LinearRegression\n",
    "from sklearn.model_selection import train_test_split\n",
    "from sklearn.metrics import mean_squared_error, r2_score\n",
    "\n",
    "# Prepare the data\n",
    "X = selected_columns_df[['OBS_VALUE']]\n",
    "y = selected_columns_df['Score']\n",
    "\n",
    "# Split the data into training and testing sets \n",
    "X_train, X_test, y_train, y_test = train_test_split(X, y, test_size=0.2, random_state=42)\n",
    "\n",
    "# Initialize the model\n",
    "model = LinearRegression()\n",
    "\n",
    "# Fit the model\n",
    "model.fit(X_train, y_train)\n",
    "\n",
    "# Make predictions\n",
    "y_pred = model.predict(X_test)\n",
    "\n",
    "# Evaluate the model\n",
    "print('R-squared:', r2_score(y_test, y_pred))\n",
    "print('Mean Squared Error:', mean_squared_error(y_test, y_pred))\n",
    "\n",
    "# Output the coefficients\n",
    "print(f'Coefficient (GDP effect on happiness): {model.coef_[0]}')\n"
   ]
  },
  {
   "cell_type": "markdown",
   "metadata": {},
   "source": [
    "Based on this analysis, we will also create a scatter plot to visualize the relationship between GDP per capita and the World Happiness Score. We will need to import two libraries, matplotlib.pyplot and seaborn.\n",
    "\n",
    "From here, we can view the scatter plot, assess how well the regression line fits the data, and examine the overall trend between GDP per capita and happiness score."
   ]
  },
  {
   "cell_type": "code",
   "execution_count": 11,
   "metadata": {},
   "outputs": [
    {
     "data": {
      "image/png": "[encoded data removed]",
      "text/plain": [
       "<Figure size 576x432 with 1 Axes>"
      ]
     },
     "metadata": {
      "needs_background": "light"
     },
     "output_type": "display_data"
    }
   ],
   "source": [
    "import matplotlib.pyplot as plt\n",
    "import seaborn as sns\n",
    "\n",
    "# Create a scatter plot of the actual data\n",
    "plt.figure(figsize=(8, 6))\n",
    "sns.scatterplot(x=selected_columns_df['OBS_VALUE'], y=selected_columns_df['Score'], label='Happiness Score', color='blue')\n",
    "\n",
    "# Predicting happiness scores for the full range of GDP (for the line)\n",
    "y_pred_line = model.predict(X)\n",
    "\n",
    "# Plot the regression line\n",
    "plt.plot(selected_columns_df['OBS_VALUE'], y_pred_line, color='red', label='Regression Line')\n",
    "\n",
    "# Label the axis\n",
    "plt.xlabel('GDP per Capita')\n",
    "plt.ylabel('Happiness Score')\n",
    "plt.title('GDP per Capita vs Happiness Score (2019)')\n",
    "plt.legend()\n",
    "\n",
    "# Visualization\n",
    "plt.savefig('gdp_vs_happiness.png', facecolor='w')\n",
    "plt.show()"
   ]
  },
  {
   "cell_type": "markdown",
   "metadata": {},
   "source": [
    "Based on the previous scatter plot, there appears to be two potential outliers, Singapore and Luxembourg. I'm interested in examining how the regression analysis and relationship will be affected if we remove these outliers from the dataset.\n",
    "\n",
    "To remove the outliers, we can create a new list and exclude Luxembourg and Singapore. This will update the DataFrame before we repeat the regression analysis. Again, we will compute the R-squared value, mean-squared error, and coefficient of the regression model."
   ]
  },
  {
   "cell_type": "code",
   "execution_count": 12,
   "metadata": {},
   "outputs": [
    {
     "name": "stdout",
     "output_type": "stream",
     "text": [
      "54\n",
      "R-squared: 0.7128314139084593\n",
      "Mean Squared Error: 0.42390427859290747\n",
      "Coefficient (GDP effect on happiness): 3.8551284577199266e-05\n"
     ]
    }
   ],
   "source": [
    "# do regression here but let's remove Singapore and Luxembourg as they appear like 'outliers'\n",
    "# how does this affect the R^2?\n",
    "\n",
    "# remove the two countries\n",
    "# List of countries to remove\n",
    "countries_to_remove = ['Singapore', 'Luxembourg']\n",
    "\n",
    "# Remove rows where the country is in the list\n",
    "selected_columns_df_updated = selected_columns_df[~selected_columns_df['Country or region'].isin(countries_to_remove)]\n",
    "\n",
    "# ensure 2 were deleted (56 countries to 54)\n",
    "print(len(selected_columns_df_updated))\n",
    "\n",
    "# Prepare the data\n",
    "X_updated = selected_columns_df_updated[['OBS_VALUE']]\n",
    "y_updated = selected_columns_df_updated['Score']\n",
    "\n",
    "# Split the data into training and testing sets (optional, but helps validate the model)\n",
    "X_train_2, X_test_2, y_train_2, y_test_2 = train_test_split(X_updated, y_updated, test_size=0.2, random_state=42)\n",
    "\n",
    "# Initialize the model\n",
    "model = LinearRegression()\n",
    "\n",
    "# Fit the model\n",
    "model.fit(X_train_2, y_train_2)\n",
    "\n",
    "# Make predictions\n",
    "y_pred_2 = model.predict(X_test_2)\n",
    "\n",
    "# Evaluate the model\n",
    "print('R-squared:', r2_score(y_test_2, y_pred_2))\n",
    "print('Mean Squared Error:', mean_squared_error(y_test_2, y_pred_2))\n",
    "\n",
    "# Output the coefficients\n",
    "print(f'Coefficient (GDP effect on happiness): {model.coef_[0]}')\n"
   ]
  },
  {
   "cell_type": "markdown",
   "metadata": {},
   "source": [
    "We will repeat the step for creating a scatter plot, except this time, we will use the DataFrame that excludes the outliers, Singapore and Luxembourg. "
   ]
  },
  {
   "cell_type": "code",
   "execution_count": 13,
   "metadata": {},
   "outputs": [
    {
     "data": {
      "image/png": "[encoded data removed]",
      "text/plain": [
       "<Figure size 576x432 with 1 Axes>"
      ]
     },
     "metadata": {
      "needs_background": "light"
     },
     "output_type": "display_data"
    }
   ],
   "source": [
    "import matplotlib.pyplot as plt\n",
    "import seaborn as sns\n",
    "\n",
    "# Create a scatter plot of the actual data\n",
    "plt.figure(figsize=(8, 6))\n",
    "sns.scatterplot(x=selected_columns_df_updated['OBS_VALUE'], y=selected_columns_df_updated['Score'], label='Happiness Score', color='blue')\n",
    "\n",
    "# Predicting happiness scores for the full range of GDP (for the line)\n",
    "y_pred_line_2 = model.predict(X_updated)\n",
    "\n",
    "# Plot the regression line\n",
    "plt.plot(selected_columns_df_updated['OBS_VALUE'], y_pred_line_2, color='red', label='Regression Line')\n",
    "\n",
    "# Label the axis\n",
    "plt.xlabel('GDP per Capita')\n",
    "plt.ylabel('Happiness Score')\n",
    "plt.title('GDP per Capita vs Happiness Score (2019)')\n",
    "plt.legend()\n",
    "\n",
    "# Visualization\n",
    "plt.savefig('gdp_vs_happiness_without_outlier.png', facecolor='w')\n",
    "plt.show()"
   ]
  },
  {
   "cell_type": "markdown",
   "metadata": {},
   "source": [
    "It appears that removing the outliers and rerunning the regression analysis generates a stronger correlation. Now what if we explore the effect of deducting GDP per capita from each country's happiness score?\n",
    "\n",
    "We will subtract GDP per capita column from our happiness score DataFrame, which generates an updated dataset. We will repeat the steps for the regression analysis and compute the R-squared value, mean-squared error, and coefficient of the regression model."
   ]
  },
  {
   "cell_type": "code",
   "execution_count": 14,
   "metadata": {},
   "outputs": [
    {
     "name": "stdout",
     "output_type": "stream",
     "text": [
      "   Country or region  Score      OBS_VALUE  GDP per capita\n",
      "9         Luxembourg  5.481  121105.786488           1.609\n",
      "35         Singapore  4.690  105516.499105           1.572\n",
      "4            Ireland  5.522   92189.163692           1.499\n",
      "19       Switzerland  6.028   73695.387069           1.452\n",
      "39            Norway  6.066   70938.225099           1.488\n",
      "R-squared: 0.3492511463457255\n",
      "Mean Squared Error: 0.35529911286242905\n",
      "Coefficient (GDP effect on happiness): 2.217070628165913e-05\n"
     ]
    },
    {
     "name": "stderr",
     "output_type": "stream",
     "text": [
      "/var/folders/41/j6lw55f910v213lhg05kxjtr0000gn/T/ipykernel_25805/313618514.py:4: SettingWithCopyWarning: \n",
      "A value is trying to be set on a copy of a slice from a DataFrame.\n",
      "Try using .loc[row_indexer,col_indexer] = value instead\n",
      "\n",
      "See the caveats in the documentation: https://pandas.pydata.org/pandas-docs/stable/user_guide/indexing.html#returning-a-view-versus-a-copy\n",
      "  selected_columns_df['Score'] = selected_columns_df['Score'] - selected_columns_df['GDP per capita']\n"
     ]
    }
   ],
   "source": [
    "# now let us examine if we were to deduct the GDP per capita from each country's happiness score (since the happiness score is a sum of all factors/columns from the World Happpiness report)\n",
    "# what does this say regarding a country's happiness without accounting for GDP? Do we see the same countries with high happiness scores without GDP included?\n",
    "\n",
    "selected_columns_df['Score'] = selected_columns_df['Score'] - selected_columns_df['GDP per capita']\n",
    "\n",
    "print(selected_columns_df.head())\n",
    "\n",
    "# Prepare the data\n",
    "X = selected_columns_df[['OBS_VALUE']]\n",
    "y = selected_columns_df['Score']\n",
    "\n",
    "# Split the data into training and testing sets (optional, but helps validate the model)\n",
    "X_train, X_test, y_train, y_test = train_test_split(X, y, test_size=0.2, random_state=42)\n",
    "\n",
    "# Initialize the model\n",
    "model = LinearRegression()\n",
    "\n",
    "# Fit the model\n",
    "model.fit(X_train, y_train)\n",
    "\n",
    "# Make predictions\n",
    "y_pred = model.predict(X_test)\n",
    "\n",
    "# Evaluate the model\n",
    "print('R-squared:', r2_score(y_test, y_pred))\n",
    "print('Mean Squared Error:', mean_squared_error(y_test, y_pred))\n",
    "\n",
    "# Output the coefficients\n",
    "print(f'Coefficient (GDP effect on happiness): {model.coef_[0]}')\n"
   ]
  },
  {
   "cell_type": "markdown",
   "metadata": {},
   "source": [
    "We will repeat the steps to create a scatter plot of the data above. From here, we can view the scatter plot, assess how well the regression line fits the data, and examine the overall trend when we remove GDP per capita from happiness scores."
   ]
  },
  {
   "cell_type": "code",
   "execution_count": 15,
   "metadata": {},
   "outputs": [
    {
     "name": "stdout",
     "output_type": "stream",
     "text": [
      "56\n"
     ]
    },
    {
     "data": {
      "image/png": "[encoded data removed]",
      "text/plain": [
       "<Figure size 576x432 with 1 Axes>"
      ]
     },
     "metadata": {
      "needs_background": "light"
     },
     "output_type": "display_data"
    }
   ],
   "source": [
    "# Create a scatter plot of the data above\n",
    "plt.figure(figsize=(8, 6))\n",
    "sns.scatterplot(x=selected_columns_df['OBS_VALUE'], y=selected_columns_df['Score'], label='Happiness Score without GDP', color='blue')\n",
    "\n",
    "print(len(selected_columns_df))\n",
    "\n",
    "# Predicting happiness scores for the full range of GDP (for the line)\n",
    "y_pred_line = model.predict(X)\n",
    "\n",
    "# Plot the regression line\n",
    "plt.plot(selected_columns_df['OBS_VALUE'], y_pred_line, color='red', label='Regression Line')\n",
    "\n",
    "# Label the axis\n",
    "plt.xlabel('GDP per Capita')\n",
    "plt.ylabel('Happiness Score without GDP factored in')\n",
    "plt.title('GDP per Capita vs Happiness Score without GDP (2019)')\n",
    "plt.legend()\n",
    "\n",
    "# Visualization\n",
    "plt.savefig('gdp_vs_happiness_gdp_removed_score.png', facecolor='w')\n",
    "plt.show()"
   ]
  },
  {
   "cell_type": "markdown",
   "metadata": {},
   "source": [
    "Similar to the initial experiment, we observe outliers in the scatter plot. Again, let's remove Singapore and Luxembourg to see if there are any changes to the regression. To remove the outliers, we can create a new list and exclude Luxembourg and Singapore. This will update the DataFrame before we repeat the regression analysis."
   ]
  },
  {
   "cell_type": "code",
   "execution_count": 16,
   "metadata": {},
   "outputs": [
    {
     "name": "stdout",
     "output_type": "stream",
     "text": [
      "54\n",
      "R-squared: 0.5981756938057627\n",
      "Mean Squared Error: 0.3742131515666845\n",
      "Coefficient (GDP effect on happiness): 2.7150697936994588e-05\n"
     ]
    }
   ],
   "source": [
    "# now repeat above but we again remove Singapore and Luxembourg to see what happens\n",
    "# do regression here but let's remove Singapore and Luxembourg as they appear like 'outliers'\n",
    "# how does this affect the R^2?\n",
    "\n",
    "# remove the two counitries\n",
    "# List of countries to remove\n",
    "countries_to_remove = ['Singapore', 'Luxembourg']\n",
    "\n",
    "# Remove rows where the country is in the list\n",
    "selected_columns_df_updated = selected_columns_df[~selected_columns_df['Country or region'].isin(countries_to_remove)]\n",
    "\n",
    "# ensure 2 were deleted (56 countries to 54)\n",
    "print(len(selected_columns_df_updated))\n",
    "\n",
    "# Prepare the data\n",
    "X_updated = selected_columns_df_updated[['OBS_VALUE']]\n",
    "y_updated = selected_columns_df_updated['Score']\n",
    "\n",
    "# Split the data into training and testing sets (optional, but helps validate the model)\n",
    "X_train_2, X_test_2, y_train_2, y_test_2 = train_test_split(X_updated, y_updated, test_size=0.2, random_state=42)\n",
    "\n",
    "# Initialize the model\n",
    "model = LinearRegression()\n",
    "\n",
    "# Fit the model\n",
    "model.fit(X_train_2, y_train_2)\n",
    "\n",
    "# Make predictions\n",
    "y_pred_2 = model.predict(X_test_2)\n",
    "\n",
    "# Evaluate the model\n",
    "print('R-squared:', r2_score(y_test_2, y_pred_2))\n",
    "print('Mean Squared Error:', mean_squared_error(y_test_2, y_pred_2))\n",
    "\n",
    "# Output the coefficients\n",
    "print(f'Coefficient (GDP effect on happiness): {model.coef_[0]}')\n"
   ]
  },
  {
   "cell_type": "markdown",
   "metadata": {},
   "source": [
    "We will repeat the steps to generate a new scatter plot that excludes Singapore and Luxembourg. From here, we can view the scatter plot, assess how well the regression line fits the data, and examine the overall trend when we remove GDP per capita from happiness scores while excluding our outliers."
   ]
  },
  {
   "cell_type": "code",
   "execution_count": 17,
   "metadata": {},
   "outputs": [
    {
     "data": {
      "image/png": "[encoded data removed]",
      "text/plain": [
       "<Figure size 576x432 with 1 Axes>"
      ]
     },
     "metadata": {
      "needs_background": "light"
     },
     "output_type": "display_data"
    }
   ],
   "source": [
    "# Create a scatter plot of the data with the 2 countries removed\n",
    "plt.figure(figsize=(8, 6))\n",
    "sns.scatterplot(x=selected_columns_df_updated['OBS_VALUE'], y=selected_columns_df_updated['Score'], label='Happiness Score', color='blue')\n",
    "\n",
    "# Predicting happiness scores for the full range of GDP (for the line)\n",
    "y_pred_line_2 = model.predict(X_updated)\n",
    "\n",
    "# Plot the regression line\n",
    "plt.plot(selected_columns_df_updated['OBS_VALUE'], y_pred_line_2, color='red', label='Regression Line')\n",
    "\n",
    "# Label the axis\n",
    "plt.xlabel('GDP per Capita')\n",
    "plt.ylabel('Happiness Score')\n",
    "plt.title('GDP per Capita vs Happiness Score (2019)')\n",
    "plt.legend()\n",
    "\n",
    "# Visualization\n",
    "plt.savefig('gdp_vs_happiness_gdp_removed_score_without_outlier.png', facecolor='w')\n",
    "plt.show()"
   ]
  },
  {
   "cell_type": "markdown",
   "metadata": {},
   "source": [
    "In the final step of testing my hypothesis, I wanted to examine the distribution of GDP proportion in relation to Happiness Score by creating a bar chart. \n",
    "\n",
    "Using the DataFrame that includes the four selected columns we want for the analysis: country or region, score, OBS value, and GDP per capita, we can generate a bar chart to help us visualize how much GDP contributes to a country's happiness score by calculating the proportion as (GDP per capita / score) * 100."
   ]
  },
  {
   "cell_type": "code",
   "execution_count": 18,
   "metadata": {},
   "outputs": [
    {
     "name": "stdout",
     "output_type": "stream",
     "text": [
      "   Country or region  Score      OBS_VALUE  GDP per capita\n",
      "9         Luxembourg  5.481  121105.786488           1.609\n",
      "35         Singapore  4.690  105516.499105           1.572\n",
      "4            Ireland  5.522   92189.163692           1.499\n",
      "19       Switzerland  6.028   73695.387069           1.452\n",
      "39            Norway  6.066   70938.225099           1.488\n",
      "   Country or region  Score      OBS_VALUE  GDP per capita\n",
      "9         Luxembourg  7.090  121105.786488           1.609\n",
      "35         Singapore  6.262  105516.499105           1.572\n",
      "4            Ireland  7.021   92189.163692           1.499\n",
      "19       Switzerland  7.480   73695.387069           1.452\n",
      "39            Norway  7.554   70938.225099           1.488\n"
     ]
    },
    {
     "name": "stderr",
     "output_type": "stream",
     "text": [
      "/var/folders/41/j6lw55f910v213lhg05kxjtr0000gn/T/ipykernel_25805/1491378971.py:7: SettingWithCopyWarning: \n",
      "A value is trying to be set on a copy of a slice from a DataFrame.\n",
      "Try using .loc[row_indexer,col_indexer] = value instead\n",
      "\n",
      "See the caveats in the documentation: https://pandas.pydata.org/pandas-docs/stable/user_guide/indexing.html#returning-a-view-versus-a-copy\n",
      "  selected_columns_df['Score'] = selected_columns_df['Score'] + selected_columns_df['GDP per capita']\n",
      "/var/folders/41/j6lw55f910v213lhg05kxjtr0000gn/T/ipykernel_25805/1491378971.py:11: SettingWithCopyWarning: \n",
      "A value is trying to be set on a copy of a slice from a DataFrame.\n",
      "Try using .loc[row_indexer,col_indexer] = value instead\n",
      "\n",
      "See the caveats in the documentation: https://pandas.pydata.org/pandas-docs/stable/user_guide/indexing.html#returning-a-view-versus-a-copy\n",
      "  selected_columns_df['GDP Proportion'] = (selected_columns_df['GDP per capita'] / selected_columns_df['Score']) * 100\n",
      "/var/folders/41/j6lw55f910v213lhg05kxjtr0000gn/T/ipykernel_25805/1491378971.py:19: SettingWithCopyWarning: \n",
      "A value is trying to be set on a copy of a slice from a DataFrame.\n",
      "Try using .loc[row_indexer,col_indexer] = value instead\n",
      "\n",
      "See the caveats in the documentation: https://pandas.pydata.org/pandas-docs/stable/user_guide/indexing.html#returning-a-view-versus-a-copy\n",
      "  selected_columns_df['GDP Proportion Bucket'] = pd.cut(selected_columns_df['GDP Proportion'], bins=bins, labels=labels, right=False)\n",
      "/var/folders/41/j6lw55f910v213lhg05kxjtr0000gn/T/ipykernel_25805/1491378971.py:22: SettingWithCopyWarning: \n",
      "A value is trying to be set on a copy of a slice from a DataFrame.\n",
      "Try using .loc[row_indexer,col_indexer] = value instead\n",
      "\n",
      "See the caveats in the documentation: https://pandas.pydata.org/pandas-docs/stable/user_guide/indexing.html#returning-a-view-versus-a-copy\n",
      "  selected_columns_df['GDP Proportion Bucket'] = pd.Categorical(selected_columns_df['GDP Proportion Bucket'], categories=labels, ordered=True)\n"
     ]
    },
    {
     "data": {
      "image/png": "[encoded data removed]",
      "text/plain": [
       "<Figure size 720x432 with 1 Axes>"
      ]
     },
     "metadata": {
      "needs_background": "light"
     },
     "output_type": "display_data"
    }
   ],
   "source": [
    "# finally just to see how signifcant GDP is per country's happiness score, here is a barchart representing the differences/proportion of GDP to each\n",
    "# country's happiness score\n",
    "\n",
    "print(selected_columns_df.head())\n",
    "\n",
    "# to quickly revert a change we made, we are adding the Score back\n",
    "selected_columns_df['Score'] = selected_columns_df['Score'] + selected_columns_df['GDP per capita']\n",
    "\n",
    "print(selected_columns_df.head())\n",
    "\n",
    "selected_columns_df['GDP Proportion'] = (selected_columns_df['GDP per capita'] / selected_columns_df['Score']) * 100\n",
    "\n",
    "# Plotting the proportional contribution of Factor 1\n",
    "bins = [0, 5, 10, 15, 20, 25, 30]\n",
    "# Generate labels dynamically based on the bin edges\n",
    "labels = [f'{bins[i]}-{bins[i+1]}' for i in range(len(bins)-1)]\n",
    "\n",
    "# Apply the binning\n",
    "selected_columns_df['GDP Proportion Bucket'] = pd.cut(selected_columns_df['GDP Proportion'], bins=bins, labels=labels, right=False)\n",
    "\n",
    "# Convert 'GDP Contribution Bucket' to a categorical type with an ordered list of labels\n",
    "selected_columns_df['GDP Proportion Bucket'] = pd.Categorical(selected_columns_df['GDP Proportion Bucket'], categories=labels, ordered=True)\n",
    "\n",
    "# Plotting the count of countries in each bucket\n",
    "ax = selected_columns_df['GDP Proportion Bucket'].value_counts().sort_index().plot(kind='bar', color='skyblue', figsize=(10, 6))\n",
    "\n",
    "# Add labels and title\n",
    "ax.set_ylabel('Number of Countries')\n",
    "ax.set_xlabel('GDP Percentage to the total Happiness Score')\n",
    "ax.set_title('Distribution of GDP Proportion in relation to total Happiness Score')\n",
    "\n",
    "# Display the plot\n",
    "plt.xticks(rotation=0)  # Rotate the x-axis labels for clarity\n",
    "plt.savefig('gdp_proportion_of_happiness_score.png', facecolor='w')\n",
    "plt.show()"
   ]
  }
 ],
 "metadata": {
  "kernelspec": {
   "display_name": "Python 3",
   "language": "python",
   "name": "python3"
  },
  "language_info": {
   "codemirror_mode": {
    "name": "ipython",
    "version": 3
   },
   "file_extension": ".py",
   "mimetype": "text/x-python",
   "name": "python",
   "nbconvert_exporter": "python",
   "pygments_lexer": "ipython3",
   "version": "3.9.12"
  }
 },
 "nbformat": 4,
 "nbformat_minor": 2
}
