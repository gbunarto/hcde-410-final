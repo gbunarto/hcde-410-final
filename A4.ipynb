{
 "cells": [
  {
   "cell_type": "markdown",
   "id": "dcfb1a7c-fb17-4e00-b0e8-3f707d8f9bd5",
   "metadata": {},
   "source": [
    "# **Potential Research Goal/Project Idea:**\n",
    "Understanding what factors (GDP, social support, health, freedom, generosity, perceptions of corruption) differentiate countries with high happiness scores from those with low scores.\n",
    "\n",
    "# **Motivation and Problem Statement:**\n",
    "For my final project, I want to examine and understand what factors most differentiate countries with higher happiness scores from countries with low happiness scores. Conducting this analysis will help me understand what values strongly resonate with countries around the world, as well as what factors they tend to prioritize to maintain happiness and quality of life. From a human-centered perspective, this research question can provide useful insights into how countries can better promote policies and organize initiatives that will advocate and improve the well-being and quality of life for their population, Additionally, I believe that this analysis will provide me interesting insights from a scientific perspective as to what factors influence a country’s happiness and potential relationships between the factors. From this analysis, I hope to learn more about what influences the quality of life for countries and possible trends in what countries value.\n",
    "\t\n",
    "# **Data Selected for Analysis: What dataset(s) do you plan to use, and why?**\n",
    "For my analysis, I plan to leverage the World Happiness Report dataset from Kaggle (https://www.kaggle.com/datasets/unsdsn/world-happiness/data). This dataset encompasses data from 2015 to 2019, with happiness scores in each of the following categories: Gross Domestic Product (GDP) per capita, social support, healthy life expectancy, freedom to make life choices, generosity, and perceptions of corruption (government). In terms of licenses and terms of use, this data is available under the CC0: Public Domain. This dataset is suitable for addressing my research goal as it oversees factors that span between economic, political, and health sectors. Having a variety of factors to analyze can allow me to observe potential differentiators and relationships between factors as they evolve over the years. When using this dataset, an ethical consideration to be mindful of is that these happiness scores could potentially be generalized and subjective, meaning that the data could be skewed due to biases. \n",
    "\n",
    "# **Unknowns and Dependencies:**\n",
    "To ensure this project is completed by the end of the quarter, I’m depending on the dataset to be comprehensive and high-quality. Since this dataset spans from 2015 to 2019, having to sort through a messy dataset with multiple years of data might bar me from completing the final project. If this dependency doesn’t meet my expectations, I can potentially scope my final project to focus on a certain year or minimize the time interval I want to examine for my analysis.\n",
    "\n"
   ]
  }
 ],
 "metadata": {
  "kernelspec": {
   "display_name": "Python 3 (ipykernel)",
   "language": "python",
   "name": "python3"
  },
  "language_info": {
   "codemirror_mode": {
    "name": "ipython",
    "version": 3
   },
   "file_extension": ".py",
   "mimetype": "text/x-python",
   "name": "python",
   "nbconvert_exporter": "python",
   "pygments_lexer": "ipython3",
   "version": "3.10.13"
  }
 },
 "nbformat": 4,
 "nbformat_minor": 5
}
