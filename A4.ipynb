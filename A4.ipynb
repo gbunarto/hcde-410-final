{
 "cells": [
  {
   "cell_type": "markdown",
   "id": "dcfb1a7c-fb17-4e00-b0e8-3f707d8f9bd5",
   "metadata": {},
   "source": [
    "# **Overview and Research Question**\n",
    "For my final project, I want to examine and understand what factors most differentiate countries with higher happiness scores from countries with low happiness scores. Conducting this analysis will help me understand what values strongly resonate with individuals in their respective country, as well as what factors they tend to prioritize to maintain happiness and quality of life. From a human-centered perspective, this research question can provide useful insights into how countries can better promote policies and organize initiatives that will advocate and improve the well-being and quality of life of their population. Additionally, I believe this analysis will provide me with interesting insights from a scientific perspective as to what factors influence a country’s happiness and the potential relationships between the factors. Ultimately, I hope to gain a deeper understanding of what drives the quality of life in countries and what trends emerge in their values and priorities.\n",
    "\n",
    "**Research Question:** \n",
    "What factors most strongly predict and differentiate countries with a high happiness score, compared to countries with low happiness scores?\n",
    "\n",
    "**Hypothesis:**\n",
    "Countries with a higher GDP (gross domestic product) per capita and freedom to make life choices will have significantly higher happiness scores than countries with lower happiness scores.\n",
    "\n",
    "# **Background and Related Works**\n",
    "One notable study on world happiness score is an article written by [Helliwell, Huang, Shiplett, and Wang](https://worldhappiness.report/ed/2024/happiness-of-the-younger-the-older-and-those-in-between/), which examines how world happiness scores differ among age generations – specifically, Baby Boomers, Generation X, Generation Y (Millennials), and Generation Z. The methodology for this study focused on subjective well-being measures, including life evaluations, positive emotions, and negative emotions. These well-being measures were used to calculate regressions to find the average happiness across countries. The findings from this study report that happiness scores tend to vary amongst age groups in different regions of the world. For example, older generations in the United States and Canada had a higher happiness score, while the younger generations in Central and Eastern Europe showed higher happiness scores. Another interesting finding from this study is that the pattern of positive emotions was found to be relatively stable over time, with the trend of positive emotions still being more frequent for the younger generations compared to older ones. \n",
    "\n",
    "Another interesting study I looked at was written by [DataRes](https://ucladatares.medium.com/effects-of-covid-19-on-the-world-happiness-report-f5dcca9c1012) at UCLA and published on Medium, which examines the effects and impact COVID-19 had on world happiness scores. The methodology from this study conducted an exploratory data analysis, where factors such as median age vs. health life expectancy score and GDP per capita vs. people’s freedom to make life choices were examined for a correlation. Similar to the first article I read, this study utilized regression modeling to identify potential relationships between these factors and how they impacted happiness scores during the pandemic. Ultimately, the findings of this study show that COVID-19 did have an impact on each country’s happiness score, but would vary depending on the region and external factors such as efforts made by the government.\n",
    "\n",
    "To summarize, the related works above examined happiness scores by age group and the impacts of COVID-19 on happiness scores. From these studies, I noticed a gap in investigating world happiness scores, specifically research that is focused on comparing the key factors that differentiate countries with the highest happiness scores compared to the lowest happiness scores. My final project aims to conduct a multi-factor analysis to identify what are the most important factors that can predict a high vs. low country-level happiness score. \n",
    "\n",
    "Using the related works as a framework helped inform how I plan to design my study, as it addresses the gap of knowledge of what factors are most important in differentiating a country’s happiness score. Additionally, examining the methodologies from other studies validated the use of the world happiness scores, as it is a quantitative number that can be used to compare well-being amongst countries.\n",
    "\n",
    "# **Data Selected for Analysis**\n",
    "For my analysis, I plan to leverage the World Happiness Report dataset from [Kaggle](https://www.kaggle.com/datasets/unsdsn/world-happiness/data). This dataset encompasses data from 2015 to 2019, with happiness scores in each of the following categories: Gross Domestic Product (GDP) per capita, social support, healthy life expectancy, freedom to make life choices, generosity, and perceptions of corruption (government). In terms of licenses and terms of use, this data is available under the CC0: Public Domain. This dataset is suitable for addressing my research goal as it oversees factors that span between economic, political, and health sectors. Having a variety of factors to analyze can allow me to observe potential differentiators and relationships between factors as they evolve over the years. When using this dataset, an ethical consideration to be mindful of is that these happiness scores could potentially be generalized and subjective, meaning that the data could be skewed due to biases. \n",
    "\n",
    "My second dataset is from [OECD Data Explorer](https://data-explorer.oecd.org/vis?lc=en&tm=DF_TABLE1_EXPENDITURE_HCPC&pg=0&snb=1&df%5Bds%5D=dsDisseminateFinalDMZ&df%5Bid%5D=DSD_NAMAIN10%40DF_TABLE1_EXPENDITURE_HCPC&df%5Bag%5D=OECD.SDD.NAD&df%5Bvs%5D=&pd=%2C&dq=A.AUS%2BAUT%2BBEL%2BCAN%2BCHL%2BCOL%2BCRI%2BCZE%2BDNK%2BEST%2BFIN%2BFRA%2BDEU%2BGRC%2BHUN%2BISL%2BIRL%2BISR%2BITA%2BJPN%2BKOR%2BLVA%2BLTU%2BLUX%2BMEX%2BNLD%2BNZL%2BNOR%2BPOL%2BPRT%2BSVK%2BSVN%2BESP%2BSWE%2BCHE%2BTUR%2BGBR%2BUSA...B1GQ_POP.......&to%5BTIME_PERIOD%5D=false&vw=tb) and provides data on nominal GDP values, which spans from 1960 to 2023. This dataset will be valuable because it provides long-term data spanning over 50 years, which can help me observe any trends, fluctuations, and shifts in GDP over time. This will be a strong point of analysis in combination with my first dataset, as I can observe changes in GDP in relation to the world happiness score. A license for this dataset was not specified, however, the [terms and conditions](https://www.oecd.org/en/about/terms-conditions.html) can be found on the OECD Data Explorer website. An ethical consideration to be aware of when using this data is that relying on GDP alone may not be an accurate representation of a country’s economic state, therefore, it might be helpful to conduct the analysis with other economic factors in mind, such as unemployment rates, inflation, or more. \n",
    "\n",
    "# **Methodology**\n",
    "Using these two datasets from [Kaggle](https://www.kaggle.com/datasets/unsdsn/world-happiness/data) and [OECD Data Explorer](https://data-explorer.oecd.org/vis?lc=en&tm=DF_TABLE1_EXPENDITURE_HCPC&pg=0&snb=1&df%5Bds%5D=dsDisseminateFinalDMZ&df%5Bid%5D=DSD_NAMAIN10%40DF_TABLE1_EXPENDITURE_HCPC&df%5Bag%5D=OECD.SDD.NAD&df%5Bvs%5D=&pd=%2C&dq=A.AUS%2BAUT%2BBEL%2BCAN%2BCHL%2BCOL%2BCRI%2BCZE%2BDNK%2BEST%2BFIN%2BFRA%2BDEU%2BGRC%2BHUN%2BISL%2BIRL%2BISR%2BITA%2BJPN%2BKOR%2BLVA%2BLTU%2BLUX%2BMEX%2BNLD%2BNZL%2BNOR%2BPOL%2BPRT%2BSVK%2BSVN%2BESP%2BSWE%2BCHE%2BTUR%2BGBR%2BUSA...B1GQ_POP.......&to%5BTIME_PERIOD%5D=false&vw=tb), I plan to conduct my analysis by first filtering the dataset for nominal GDP to be within the range of years that are included in the Kaggle dataset, which spans from 2015 to 2019. After this initial filter, we must do another filter, as some countries in the nominal GDP dataset might not be in the Kaggle dataset, specifically, we will only include countries that are in both the Kaggle and GDP dataset. Finally, we must define criteria for what is considered a “high happiness score” vs. a “low happiness score” before conducting a comparative analysis between the datasets. \n",
    "\n",
    "# **Unknowns and Dependencies:**\n",
    "To ensure this project is completed by the end of the quarter, I’m depending on the datasets to be clean, comprehensive, and high-quality. Since the OECD Data Explorer dataset in particular, spans from 1960 to 2023, having to sort through a messy dataset with multiple years of data might bar me from completing the final project. If this dependency doesn’t meet my expectations, I can potentially scope my final project to focus on a certain year or minimize the time interval I want to examine for my analysis."
   ]
  }
 ],
 "metadata": {
  "kernelspec": {
   "display_name": "Python 3",
   "language": "python",
   "name": "python3"
  },
  "language_info": {
   "codemirror_mode": {
    "name": "ipython",
    "version": 3
   },
   "file_extension": ".py",
   "mimetype": "text/x-python",
   "name": "python",
   "nbconvert_exporter": "python",
   "pygments_lexer": "ipython3",
   "version": "3.12.1"
  }
 },
 "nbformat": 4,
 "nbformat_minor": 5
}
